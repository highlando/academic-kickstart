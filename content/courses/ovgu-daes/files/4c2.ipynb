{
 "cells": [
  {
   "cell_type": "markdown",
   "metadata": {},
   "source": [
    "Implicit Euler for DAEs\n",
    "---\n",
    "\n",
    "For a general DAE of type \n",
    "$$ F(t, x, \\dot x)=0$$\n",
    "the *Implicit Euler* scheme that advances the current approximation $x_k$ at time step $t_k$ to the approximation $x_{k+1}$ at time step $t_{k+1}$ is defined through\n",
    "$$ F(t, x_{k+1}, \\frac{x_{k+1}-x_k}{h})=0,$$\n",
    "where $h$ is the time-step length. If $F$ is a nonlinear function, then a nonlinear solver is needed to solve for $x_{k+1}$. "
   ]
  },
  {
   "cell_type": "code",
   "execution_count": 21,
   "metadata": {},
   "outputs": [],
   "source": [
    "import numpy as np\n",
    "import matplotlib.pyplot as plt\n",
    "from scipy.optimize import fsolve\n",
    "\n",
    "def impliciteuler(F=None, inival=None, interval=[0, 1], Nts=100,\n",
    "                  dFdx=None, dFdxdot=None):\n",
    "    \"\"\"\n",
    "    Parameters:\n",
    "    ---\n",
    "    F: callable\n",
    "        the problem in the form F(t,x,x')\n",
    "    Nts: integer\n",
    "        Number of time steps, defaults to `100`.\n",
    "    \"\"\"\n",
    "    t0, te = interval[0], interval[1]\n",
    "    h = 1./Nts*(te-t0)\n",
    "    N = inival.size\n",
    "    \n",
    "    sollist = [inival.reshape((1, N))]\n",
    "    tlist = [t0] \n",
    "    \n",
    "    xk = inival\n",
    "    for k in range(1, Nts+1):  # python starts counting with zero...\n",
    "        tkk = t0 + k*h\n",
    "        \n",
    "        def impeuler_increment(xkkn):\n",
    "            \"\"\" the implicit Euler update for a general F \"\"\"\n",
    "            return F(tkk,xkkn,1./h*(xkkn-xk)).flatten()\n",
    "        \n",
    "        xkk, _, flag, msg = fsolve(func=impeuler_increment, x0=xk, full_output=True)\n",
    "        # call a nonlinear solver for the system f(x)=0\n",
    "        if not flag == 1:\n",
    "            print('Caution at t={0}: '.format(tkk) + msg)\n",
    "        sollist.append(xkk.reshape((1, N)))\n",
    "        tlist.append(tkk)\n",
    "        xk = xkk\n",
    "        \n",
    "    sol = np.vstack(sollist)\n",
    "    plt.plot(tlist, sol[:,0])\n",
    "    plt.xlabel('t'), plt.ylabel('x')\n",
    "    plt.show()\n",
    "    \n",
    "    return sol"
   ]
  },
  {
   "cell_type": "markdown",
   "metadata": {},
   "source": [
    "Linear DAEs with time-varying coefficients\n",
    "---\n",
    "\n",
    "Let $F(t, x, \\dot x)= E(t)\\dot x - A(t)x - f(t)$.\n",
    "\n",
    "### Problem (a)\n",
    "\n",
    "Consider\n",
    "\t\t\t\t\\begin{equation*}\n",
    "\t\t\t\t\tE(t) = \n",
    "\t\t\t\t\t\\begin{bmatrix} -t &t^2 \\\\ -1 &t\n",
    "\t\t\t\t\t\\end{bmatrix}, \\quad\n",
    "\t\t\t\t\tA(t) = \n",
    "\t\t\t\t\t\\begin{bmatrix} -1 &0 \\\\ 0 &-1\n",
    "\t\t\t\t\t\\end{bmatrix}, \\quad\n",
    "\t\t\t\t\tf(t) = \n",
    "\t\t\t\t\t\\begin{bmatrix} 0 \\\\ 0\n",
    "\t\t\t\t\t\\end{bmatrix}.\n",
    "\t\t\t\t\\end{equation*}\n",
    "with the initial value $x_0=[0,1]^T$ on the interval $\\mathbb I = [0,10]$.\n",
    "\n",
    "The problem has infinitely many solutions, namely $x(t) = c(t)\\begin{bmatrix} t \\\\ 1 \\end{bmatrix}$ for any smooth scalar function $t$. The *Implicit Euler* nevertheless returns a solution (**without telling you that there are many!!!**)\n",
    "\n",
    "### Problem (b)\n",
    "\n",
    "Consider\n",
    "\\begin{equation*}\n",
    "\tE(t) = \n",
    "\t\\begin{bmatrix} 0 & 0 \\\\ 1 & -1\n",
    "\t\\end{bmatrix}, \\quad\n",
    "\tA(t) = \n",
    "\t\\begin{bmatrix} -1 &t \\\\ 0 & 0\n",
    "\t\\end{bmatrix}, \\quad\n",
    "\tf(t) = \n",
    "\t\\begin{bmatrix} \\sin(t) \\\\ \\cos(t)\n",
    "\t\\end{bmatrix}.\n",
    "\\end{equation*}    \n",
    "with the initial value $x_0=[1,1]^T$ on the interval $\\mathbb I = [0,10]$. This problem has the **unique** solution $x(t) = \\begin{bmatrix} \\sin(t) \\\\ 0 \\end{bmatrix}$. Thus, the provided initial value ist not consistent. Anyways, also with the consistent solution the *Implicit Euler* does not give a (reasonable) solution but issues a warning that at some point the equation for $x_{k+1}$ cannot be solved satisfactory. In fact, at $t=1$, the matrix $E(t)-hA(t)$, which is inverted when solving for $x_{k+1}$ is singular (for any $h$). This is an example, where there is a unique solution, but the *Implicit Euler* fails.\n",
    "\n",
    "### Problem (c)\n",
    "\n",
    "Consider\n",
    "\\begin{equation*}\n",
    "\tE(t) = \n",
    "\t\\begin{bmatrix} 1 & 1 \\\\ 0 & 0\n",
    "\t\\end{bmatrix}, \\quad\n",
    "\tA(t) = \n",
    "\t\\begin{bmatrix} 0 &0 \\\\ 0 &-1\n",
    "\t\\end{bmatrix}, \\quad\n",
    "\tf(t) = \n",
    "\t\\begin{bmatrix} e^t+\\cos(t) \\\\ e^t\n",
    "\t\\end{bmatrix}\n",
    "\\end{equation*}\n",
    "with $x_0=[0,1]^T$, $\\mathbb I = [0,1]$. This problem has the unique solution $x(t) = \\begin{bmatrix} \\sin(t) \\\\ \\exp(t) \\end{bmatrix}$ and the *Implicit Euler* works just fine. Observe, that an *inconsistent* initial value (here: $x_0=[2,-1]^T$) is \"corrected\" in the first time-step."
   ]
  },
  {
   "cell_type": "code",
   "execution_count": 22,
   "metadata": {},
   "outputs": [
    {
     "data": {
      "image/png": "[encoded data removed]",
      "text/plain": [
       "<Figure size 432x288 with 1 Axes>"
      ]
     },
     "metadata": {
      "needs_background": "light"
     },
     "output_type": "display_data"
    }
   ],
   "source": [
    "## Problem (a)\n",
    "\n",
    "def E(t):\n",
    "    return np.array([[-t, t*t], [-1, t]])\n",
    "def A(t):\n",
    "    return np.array([[-1, 0], [0, -1]])\n",
    "def f(t):\n",
    "    return np.array([0, 0])\n",
    "\n",
    "def F(t, x, xdot):\n",
    "    return E(t).dot(xdot) - A(t).dot(x) - f(t)\n",
    "\n",
    "inival = np.array([0, 1])\n",
    "interval = [0, 10]\n",
    "\n",
    "sol = impliciteuler(F=F, inival=inival, interval=interval, Nts=500)"
   ]
  },
  {
   "cell_type": "code",
   "execution_count": 23,
   "metadata": {},
   "outputs": [
    {
     "name": "stdout",
     "output_type": "stream",
     "text": [
      "Caution at t=1.0: The iteration is not making good progress, as measured by the \n",
      "  improvement from the last ten iterations.\n"
     ]
    },
    {
     "data": {
      "image/png": "[encoded data removed]",
      "text/plain": [
       "<Figure size 432x288 with 1 Axes>"
      ]
     },
     "metadata": {
      "needs_background": "light"
     },
     "output_type": "display_data"
    },
    {
     "name": "stdout",
     "output_type": "stream",
     "text": [
      "Caution at t=1.0: The iteration is not making good progress, as measured by the \n",
      "  improvement from the last ten iterations.\n",
      "Caution at t=1.02: The iteration is not making good progress, as measured by the \n",
      "  improvement from the last ten iterations.\n"
     ]
    },
    {
     "data": {
      "image/png": "[encoded data removed]",
      "text/plain": [
       "<Figure size 432x288 with 1 Axes>"
      ]
     },
     "metadata": {
      "needs_background": "light"
     },
     "output_type": "display_data"
    }
   ],
   "source": [
    "## Problem (b)\n",
    "\n",
    "def E(t):\n",
    "    return np.array([[0, 0], [1, -1]])\n",
    "def A(t):\n",
    "    return np.array([[-1, t], [0, 0]])\n",
    "def f(t):\n",
    "    return np.array([np.sin(t), np.cos(t)])\n",
    "\n",
    "def F(t, x, xdot):\n",
    "    return E(t).dot(xdot) - A(t).dot(x) - f(t)\n",
    "\n",
    "interval = [0, 2]\n",
    "\n",
    "inival = np.array([1, 1])\n",
    "sol = impliciteuler(F=F, inival=inival, interval=interval, Nts=100)\n",
    "\n",
    "inival = np.array([0, 0])\n",
    "sol = impliciteuler(F=F, inival=inival, interval=interval, Nts=100)"
   ]
  },
  {
   "cell_type": "code",
   "execution_count": 24,
   "metadata": {},
   "outputs": [
    {
     "data": {
      "image/png": "[encoded data removed]",
      "text/plain": [
       "<Figure size 432x288 with 1 Axes>"
      ]
     },
     "metadata": {
      "needs_background": "light"
     },
     "output_type": "display_data"
    },
    {
     "data": {
      "image/png": "[encoded data removed]",
      "text/plain": [
       "<Figure size 432x288 with 1 Axes>"
      ]
     },
     "metadata": {
      "needs_background": "light"
     },
     "output_type": "display_data"
    }
   ],
   "source": [
    "## Problem (c)\n",
    "\n",
    "def E(t):\n",
    "    return np.array([[1, 1], [0, 0]])\n",
    "def A(t):\n",
    "    return np.array([[0, 0], [0, -1]])\n",
    "def f(t):\n",
    "    return np.array([np.exp(t)+np.cos(t), np.exp(t)])\n",
    "\n",
    "def F(t, x, xdot):\n",
    "    return E(t).dot(xdot) - A(t).dot(x) - f(t)\n",
    "\n",
    "interval = [0, 10]\n",
    "\n",
    "inival = np.array([0, 1])\n",
    "sol = impliciteuler(F=F, inival=inival, interval=interval, Nts=10000)\n",
    "\n",
    "inival = np.array([1, 2])\n",
    "sol = impliciteuler(F=F, inival=inival, interval=interval, Nts=10)"
   ]
  },
  {
   "cell_type": "code",
   "execution_count": null,
   "metadata": {},
   "outputs": [],
   "source": []
  },
  {
   "cell_type": "code",
   "execution_count": null,
   "metadata": {},
   "outputs": [],
   "source": []
  }
 ],
 "metadata": {
  "kernelspec": {
   "display_name": "Python 3",
   "language": "python",
   "name": "python3"
  },
  "language_info": {
   "codemirror_mode": {
    "name": "ipython",
    "version": 3
   },
   "file_extension": ".py",
   "mimetype": "text/x-python",
   "name": "python",
   "nbconvert_exporter": "python",
   "pygments_lexer": "ipython3",
   "version": "3.8.10"
  }
 },
 "nbformat": 4,
 "nbformat_minor": 1
}
